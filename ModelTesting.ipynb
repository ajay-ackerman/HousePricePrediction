{
 "cells": [
  {
   "cell_type": "markdown",
   "id": "ba5cc40e",
   "metadata": {},
   "source": [
    "# Testing the model"
   ]
  },
  {
   "cell_type": "code",
   "execution_count": 10,
   "id": "18c5a953",
   "metadata": {},
   "outputs": [],
   "source": [
    "from joblib import load\n",
    "import numpy as np \n",
    "model = load('Dragon.joblib')\n",
    "\n",
    "array = np.array([[-0.54613254,  1.22474487, -0.72437731,  0.        , -1.24995952,\n",
    "       -1.56482553, -0.63315717,  1.28708093, -0.8260802 , -0.34670673,\n",
    "       -1.39707095, -0.77512458, -0.46346653]])"
   ]
  },
  {
   "cell_type": "code",
   "execution_count": 9,
   "id": "67f3201e",
   "metadata": {},
   "outputs": [
    {
     "data": {
      "text/plain": [
       "array([20.149])"
      ]
     },
     "execution_count": 9,
     "metadata": {},
     "output_type": "execute_result"
    }
   ],
   "source": [
    "model.predict(array)"
   ]
  },
  {
   "cell_type": "code",
   "execution_count": null,
   "id": "65f7c16b",
   "metadata": {},
   "outputs": [],
   "source": []
  }
 ],
 "metadata": {
  "kernelspec": {
   "display_name": "Python 3 (ipykernel)",
   "language": "python",
   "name": "python3"
  },
  "language_info": {
   "codemirror_mode": {
    "name": "ipython",
    "version": 3
   },
   "file_extension": ".py",
   "mimetype": "text/x-python",
   "name": "python",
   "nbconvert_exporter": "python",
   "pygments_lexer": "ipython3",
   "version": "3.10.9"
  }
 },
 "nbformat": 4,
 "nbformat_minor": 5
}
